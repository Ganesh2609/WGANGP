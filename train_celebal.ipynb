{
 "cells": [
  {
   "cell_type": "code",
   "execution_count": 1,
   "metadata": {},
   "outputs": [],
   "source": [
    "import torch \n",
    "from torch import nn\n",
    "from torch.utils.data import DataLoader\n",
    "\n",
    "import torchvision\n",
    "from torchvision import transforms, datasets\n",
    "\n",
    "import torchinfo\n",
    "from WGAN import Generator, Discriminator, initialize_weights\n",
    "from ModelTrainer import train_models\n",
    "\n",
    "from typing import List, Tuple\n",
    "from pathlib import Path\n",
    "from tqdm import tqdm"
   ]
  },
  {
   "cell_type": "code",
   "execution_count": 2,
   "metadata": {},
   "outputs": [
    {
     "data": {
      "text/plain": [
       "'cuda'"
      ]
     },
     "execution_count": 2,
     "metadata": {},
     "output_type": "execute_result"
    }
   ],
   "source": [
    "# Device agnostic code\n",
    "\n",
    "if torch.cuda.is_available():\n",
    "    device = 'cuda'\n",
    "else:\n",
    "    device = 'cpu'\n",
    "device"
   ]
  },
  {
   "cell_type": "code",
   "execution_count": 3,
   "metadata": {},
   "outputs": [],
   "source": [
    "# Hyperparameters \n",
    "\n",
    "LEARNING_RATE = 1e-4\n",
    "BATCH_SIZE = 64\n",
    "IMAGE_SIZE = (64, 64)\n",
    "CHANNELS = 3\n",
    "Z_DIM = 256\n",
    "NUM_EPOCHS = 4\n",
    "DISC_HIDDEN = 64\n",
    "GEN_HIDDEN = 64\n",
    "DISCRIMINATOR_ITERATIONS = 5\n",
    "LAMBDA_GP = 10\n",
    "\n",
    "GENERATOR_SAVE_PATH = 'Models/celebal_first_generator.pth'\n",
    "DISCRIMINATOR_SAVE_PATH = 'Models/celebal_first_discriminator.pth'\n",
    "RESULT_PATH = 'Results/Train 1'"
   ]
  },
  {
   "cell_type": "code",
   "execution_count": 4,
   "metadata": {},
   "outputs": [],
   "source": [
    "# Setting up the transforms \n",
    "\n",
    "input_transform = transforms.Compose([\n",
    "    transforms.Resize(size=IMAGE_SIZE),\n",
    "    transforms.ToTensor(),\n",
    "    transforms.Normalize(mean=[0.5]*CHANNELS, std=[0.5]*CHANNELS)\n",
    "])"
   ]
  },
  {
   "cell_type": "code",
   "execution_count": 5,
   "metadata": {},
   "outputs": [
    {
     "data": {
      "text/plain": [
       "(202599, 3166)"
      ]
     },
     "execution_count": 5,
     "metadata": {},
     "output_type": "execute_result"
    }
   ],
   "source": [
    "# Training data\n",
    "\n",
    "train_data = datasets.ImageFolder(root='../DCGAN/celebal_data', transform=input_transform)\n",
    "dataloader = DataLoader(dataset=train_data, batch_size=BATCH_SIZE, shuffle=True)\n",
    "len(train_data), len(dataloader)"
   ]
  },
  {
   "cell_type": "code",
   "execution_count": 6,
   "metadata": {},
   "outputs": [],
   "source": [
    "# Creating model instances\n",
    "\n",
    "generator = Generator(latent_channels=Z_DIM, hidden_channels=GEN_HIDDEN, img_channels=CHANNELS).to(device)\n",
    "initialize_weights(generator)\n",
    "\n",
    "discriminator = Discriminator(in_channels=CHANNELS, hidden_channels=DISC_HIDDEN).to(device)\n",
    "initialize_weights(discriminator)"
   ]
  },
  {
   "cell_type": "code",
   "execution_count": 7,
   "metadata": {},
   "outputs": [],
   "source": [
    "# Loss function and optimizers \n",
    "\n",
    "gen_opt = torch.optim.Adam(params=generator.parameters(), lr=LEARNING_RATE, betas=(0.0, 0.9))\n",
    "disc_opt = torch.optim.Adam(params=discriminator.parameters(), lr=LEARNING_RATE, betas=(0.0, 0.9))"
   ]
  },
  {
   "cell_type": "code",
   "execution_count": 8,
   "metadata": {},
   "outputs": [
    {
     "name": "stdout",
     "output_type": "stream",
     "text": [
      "A generator aleady exists... Loading that model and training it for the specified epochs\n",
      "A discriminator aleady exists... Loading that model and training it for the specified epochs\n"
     ]
    }
   ],
   "source": [
    "# Saving and loading models\n",
    "\n",
    "model_file = Path(GENERATOR_SAVE_PATH)\n",
    "if model_file.is_file():\n",
    "    generator.load_state_dict(torch.load(f=GENERATOR_SAVE_PATH))\n",
    "    print(\"A generator aleady exists... Loading that model and training it for the specified epochs\")\n",
    "else:\n",
    "    print(\"A generator does not exist in the specified path... Creating the model and training it for the specified epochs\")\n",
    "    \n",
    "model_file = Path(DISCRIMINATOR_SAVE_PATH)\n",
    "if model_file.is_file():\n",
    "    discriminator.load_state_dict(torch.load(f=DISCRIMINATOR_SAVE_PATH))\n",
    "    print(\"A discriminator aleady exists... Loading that model and training it for the specified epochs\")\n",
    "else:\n",
    "    print(\"A discriminator does not exist in the specified path... Creating the model and training it for the specified epochs\")"
   ]
  },
  {
   "cell_type": "code",
   "execution_count": 9,
   "metadata": {},
   "outputs": [
    {
     "name": "stderr",
     "output_type": "stream",
     "text": [
      "Epoch [2/4] : 100%|██████████| 3166/3166 [1:50:09<00:00,  2.09s/it, Gen Batch Loss=133, Gen Loss=216, Disc Batch Loss=52.3, Disc Loss=51.1]  \n",
      "Epoch [3/4] : 100%|██████████| 3166/3166 [1:49:54<00:00,  2.08s/it, Gen Batch Loss=274, Gen Loss=232, Disc Batch Loss=28.7, Disc Loss=39.7]\n",
      "Epoch [4/4] : 100%|██████████| 3166/3166 [1:49:50<00:00,  2.08s/it, Gen Batch Loss=219, Gen Loss=237, Disc Batch Loss=30.6, Disc Loss=46]   \n",
      "Epoch [5/4] : 100%|██████████| 3166/3166 [1:49:45<00:00,  2.08s/it, Gen Batch Loss=227, Gen Loss=207, Disc Batch Loss=29, Disc Loss=39.6]   \n"
     ]
    },
    {
     "data": {
      "text/plain": [
       "{'Generator Loss': [215.55980612978632,\n",
       "  231.74419914433568,\n",
       "  237.17214706105216,\n",
       "  206.86496381343954],\n",
       " 'Discriminator Loss': [51.12361939497109,\n",
       "  39.68997619277077,\n",
       "  45.96103652428767,\n",
       "  39.63442630972654]}"
      ]
     },
     "execution_count": 9,
     "metadata": {},
     "output_type": "execute_result"
    }
   ],
   "source": [
    "# Training the model \n",
    "\n",
    "train_models(generator=generator,\n",
    "             discriminator=discriminator,\n",
    "             dataloader=dataloader,\n",
    "             gen_optimizer=gen_opt,\n",
    "             disc_optimizer=disc_opt,\n",
    "             BATCH_SIZE=BATCH_SIZE,\n",
    "             Z_DIM=Z_DIM,\n",
    "             NUM_EPOCHS=NUM_EPOCHS,\n",
    "             device=device,\n",
    "             DISC_ITERATIONS=DISCRIMINATOR_ITERATIONS,\n",
    "             LAMBDA_GP=LAMBDA_GP,\n",
    "             gen_path=GENERATOR_SAVE_PATH,\n",
    "             disc_path=DISCRIMINATOR_SAVE_PATH,\n",
    "             result_path=RESULT_PATH)"
   ]
  }
 ],
 "metadata": {
  "kernelspec": {
   "display_name": "TorchEnv2",
   "language": "python",
   "name": "python3"
  },
  "language_info": {
   "codemirror_mode": {
    "name": "ipython",
    "version": 3
   },
   "file_extension": ".py",
   "mimetype": "text/x-python",
   "name": "python",
   "nbconvert_exporter": "python",
   "pygments_lexer": "ipython3",
   "version": "3.12.4"
  }
 },
 "nbformat": 4,
 "nbformat_minor": 2
}
